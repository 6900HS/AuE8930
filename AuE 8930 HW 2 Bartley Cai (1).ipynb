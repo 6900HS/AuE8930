{
 "cells": [
  {
   "cell_type": "markdown",
   "id": "7983f740",
   "metadata": {},
   "source": [
    "## AuE 8930 Computation & Simulation\n",
    "### Homework 2 Programming Exercises, Option 1 Python\n",
    "### Bartley Cai"
   ]
  },
  {
   "cell_type": "markdown",
   "id": "577e8286",
   "metadata": {},
   "source": [
    "#### Question 1\n",
    "#### Write a program which will find all such numbers which are divisible by 7 but are not a multiple of 5, between 2000 and 3200 (both included). The numbers obtained should be printed in a comma-separated sequence on a single line.\n",
    "\n",
    "#### Hints: Consider use range(#begin, #end) method"
   ]
  },
  {
   "cell_type": "code",
   "execution_count": 298,
   "id": "5cca4bdf",
   "metadata": {},
   "outputs": [
    {
     "name": "stdout",
     "output_type": "stream",
     "text": [
      "[2002, 2009, 2016, 2023, 2037, 2044, 2051, 2058, 2072, 2079, 2086, 2093, 2107, 2114, 2121, 2128, 2142, 2149, 2156, 2163, 2177, 2184, 2191, 2198, 2212, 2219, 2226, 2233, 2247, 2254, 2261, 2268, 2282, 2289, 2296, 2303, 2317, 2324, 2331, 2338, 2352, 2359, 2366, 2373, 2387, 2394, 2401, 2408, 2422, 2429, 2436, 2443, 2457, 2464, 2471, 2478, 2492, 2499, 2506, 2513, 2527, 2534, 2541, 2548, 2562, 2569, 2576, 2583, 2597, 2604, 2611, 2618, 2632, 2639, 2646, 2653, 2667, 2674, 2681, 2688, 2702, 2709, 2716, 2723, 2737, 2744, 2751, 2758, 2772, 2779, 2786, 2793, 2807, 2814, 2821, 2828, 2842, 2849, 2856, 2863, 2877, 2884, 2891, 2898, 2912, 2919, 2926, 2933, 2947, 2954, 2961, 2968, 2982, 2989, 2996, 3003, 3017, 3024, 3031, 3038, 3052, 3059, 3066, 3073, 3087, 3094, 3101, 3108, 3122, 3129, 3136, 3143, 3157, 3164, 3171, 3178, 3192, 3199]\n"
     ]
    }
   ],
   "source": [
    "q1 = [] # empty list\n",
    "for num in range(2000,3201):\n",
    "    # if the modulus of the number of 7 is 0\n",
    "    # and the modulus of the number of 5 is greater than 0 (or not equal to 0)\n",
    "    # append to list\n",
    "    if num % 7 == 0 and num % 5 > 0:\n",
    "        q1.append(num)\n",
    "print(q1)"
   ]
  },
  {
   "cell_type": "markdown",
   "id": "df47d593",
   "metadata": {},
   "source": [
    "#### Question 2\n",
    "#### Write a program which can compute the factorial of a given numbers. The results should be printed in a comma-separated sequence on a single line. Suppose the following input is supplied to the program:\n",
    "#### 8\n",
    "#### Then, the output should be:\n",
    "#### 40320"
   ]
  },
  {
   "cell_type": "code",
   "execution_count": 300,
   "id": "b55c7ffa",
   "metadata": {},
   "outputs": [
    {
     "name": "stdout",
     "output_type": "stream",
     "text": [
      "Enter an integer to calculate the factorial \n",
      "8\n",
      "The factorial of 8 is \n",
      "40320\n"
     ]
    }
   ],
   "source": [
    "import math\n",
    "number = input(\"Enter an integer to calculate the factorial \\n\")\n",
    "integer = int(number)\n",
    "    \n",
    "print(f\"The factorial of {number} is \\n{math.factorial(integer)}\")\n",
    "\n",
    "# factorial recursive function"
   ]
  },
  {
   "cell_type": "markdown",
   "id": "49769cec",
   "metadata": {},
   "source": [
    "#### Question 3\n",
    "#### With a given integer number n, write a program to generate a dictionary that contains (i, i*i) such that is an integer number between 1 and n (both included). and then the program should print the dictionary. Suppose the following input is supplied to the program: 8 Then, the output should be: {1: 1, 2: 4, 3: 9, 4: 16, 5: 25, 6: 36, 7: 49, 8: 64}\n",
    "\n",
    "#### Hints: Consider use dict()\n",
    "\n"
   ]
  },
  {
   "cell_type": "code",
   "execution_count": 43,
   "id": "51f5c001",
   "metadata": {},
   "outputs": [
    {
     "name": "stdout",
     "output_type": "stream",
     "text": [
      "Enter an integer to generate a dictionary of squares \n",
      "8\n",
      "{1: 1, 2: 4, 3: 9, 4: 16, 5: 25, 6: 36, 7: 49, 8: 64}\n"
     ]
    }
   ],
   "source": [
    "q3={} # empty dictionary\n",
    "number = input(\"Enter an integer to generate a dictionary of squares \\n\")\n",
    "integer = int(number)\n",
    "\n",
    "for num in range(1,integer+1):\n",
    "    q3[num]=num**2\n",
    "    \n",
    "print(q3)"
   ]
  },
  {
   "cell_type": "markdown",
   "id": "2fc3a02d",
   "metadata": {},
   "source": [
    "#### Question 4\n",
    "#### Write a program which accepts a sequence of comma-separated numbers from console and generate a list and a tuple which contains every number. Suppose the following input is supplied to the program:\n",
    "#### 34,67,55,33,12,98\n",
    "#### Then, the output should be: ['34', '67', '55', '33', '12', '98']\n",
    "#### ('34', '67', '55', '33', '12', '98')\n",
    "\n",
    "#### Hints: In case of input data being supplied to the question, it should be assumed to be a console input. tuple() method can convert list to tuple\n",
    "\n"
   ]
  },
  {
   "cell_type": "code",
   "execution_count": 60,
   "id": "7942c29d",
   "metadata": {},
   "outputs": [
    {
     "name": "stdout",
     "output_type": "stream",
     "text": [
      "Enter a list of numbers separated by commas only \n",
      "34,67,55,33,12,98\n",
      "['34', '67', '55', '33', '12', '98']\n",
      "('34', '67', '55', '33', '12', '98')\n"
     ]
    }
   ],
   "source": [
    "number_list = input(\"Enter a list of numbers separated by commas only \\n\")\n",
    "q4=(number_list.split(\",\"))\n",
    "print(q4)\n",
    "q4tuple=tuple(q4)\n",
    "print(q4tuple)"
   ]
  },
  {
   "cell_type": "markdown",
   "id": "325d8223",
   "metadata": {},
   "source": [
    "#### Question 5\n",
    "#### Define a class which has at least two methods:\n",
    "#### getString: to get a string from console input\n",
    "#### printString: to print the string in upper case.\n",
    "#### Also please include simple test function to test the class methods.\n",
    "\n",
    "#### Hints: Use init method to construct some parameters\n",
    "\n"
   ]
  },
  {
   "cell_type": "code",
   "execution_count": 292,
   "id": "42a91ac2",
   "metadata": {},
   "outputs": [
    {
     "name": "stdout",
     "output_type": "stream",
     "text": [
      "hello world\n",
      "HELLO WORLD\n"
     ]
    }
   ],
   "source": [
    "class String(object):\n",
    "    def __init__(self):\n",
    "        self.s = \"\"\n",
    "    def getString(self):\n",
    "        self.s = input()\n",
    "    def printString(self):\n",
    "        print(self.s.upper())\n",
    "\n",
    "string = String()\n",
    "string.getString()\n",
    "string.printString()"
   ]
  },
  {
   "cell_type": "markdown",
   "id": "7d65956a",
   "metadata": {},
   "source": [
    "#### Question 6\n",
    "#### Write a program that calculates and prints the value according to the given formula:\n",
    "#### Q = Square root of [(2 * C * D)/H]\n",
    "#### Following are the fixed values of C and H:\n",
    "#### C is 50. H is 30.\n",
    "#### D is the variable whose values should be input to your program in a comma-separated sequence.\n",
    "#### Example:\n",
    "#### Let us assume the following comma separated input sequence is given to the program:\n",
    "#### 100,150,180\n",
    "#### The output of the program should be: 18,22,24\n",
    "\n",
    "#### Hints: If the output received is in decimal form, it should be rounded off to its nearest value (for example, if the output received is 26.0, it should be printed as 26)"
   ]
  },
  {
   "cell_type": "code",
   "execution_count": 84,
   "id": "d30e58e4",
   "metadata": {},
   "outputs": [
    {
     "name": "stdout",
     "output_type": "stream",
     "text": [
      "Enter a list of integers separated by commas only\n",
      "100,150,180\n",
      "18,22,24\n"
     ]
    }
   ],
   "source": [
    "C = 50\n",
    "H = 30\n",
    "D = input(\"Enter a list of integers separated by commas only\\n\")\n",
    "D = (D.split(\",\"))\n",
    "D_list = [] # empty list\n",
    "for num in D:\n",
    "    Q = round(((2*C*float(num))/H)**(1/2))\n",
    "    Q = str(Q)\n",
    "    D_list.append(Q)\n",
    "print(','.join(D_list))"
   ]
  },
  {
   "cell_type": "markdown",
   "id": "061a14b2",
   "metadata": {},
   "source": [
    "#### Question 7\n",
    "#### Write a program which takes 2 digits, X,Y as input and generates a 2-dimensional array. The element value in the i-th row and j-th column of the array should be i*j.\n",
    "#### Note: i=0,1.., X-1; j=0,1,.., Y-1.\n",
    "#### Example:\n",
    "#### Suppose the following inputs are given to the program:\n",
    "#### 3,5\n",
    "#### Then, the output of the program should be:\n",
    "#### [[0, 0, 0, 0, 0], [0, 1, 2, 3, 4], [0, 2, 4, 6, 8]]"
   ]
  },
  {
   "cell_type": "code",
   "execution_count": 111,
   "id": "66a4f9d5",
   "metadata": {
    "scrolled": true
   },
   "outputs": [
    {
     "name": "stdout",
     "output_type": "stream",
     "text": [
      "Enter only 2 integers separated only by commas\n",
      "3,5\n"
     ]
    },
    {
     "data": {
      "text/plain": [
       "[[0, 0, 0, 0, 0], [0, 1, 2, 3, 4], [0, 2, 4, 6, 8]]"
      ]
     },
     "execution_count": 111,
     "metadata": {},
     "output_type": "execute_result"
    }
   ],
   "source": [
    "XY = input(\"Enter only 2 integers separated only by commas\\n\")\n",
    "XY = XY.split(\",\")\n",
    "row = int(XY[0])\n",
    "col = int(XY[1])\n",
    "array = [[0 for col in range(col)] for row in range(row)] # list comprehension\n",
    "\n",
    "for i in range(row):\n",
    "    for j in range(col):\n",
    "        array[i][j]=i*j\n",
    "        \n",
    "print(array)\n"
   ]
  },
  {
   "cell_type": "markdown",
   "id": "00203d0b",
   "metadata": {},
   "source": [
    "#### Question 8\n",
    "#### Write a program that accepts a comma separated sequence of words as input and prints the words in a comma-separated sequence after sorting them alphabetically.\n",
    "#### Suppose the following input is supplied to the program:\n",
    "#### without,hello,bag,world\n",
    "#### Then, the output should be:\n",
    "#### bag,hello,without,world"
   ]
  },
  {
   "cell_type": "code",
   "execution_count": 115,
   "id": "d977c634",
   "metadata": {
    "scrolled": true
   },
   "outputs": [
    {
     "name": "stdout",
     "output_type": "stream",
     "text": [
      "Enter a list of words separated only by commas\n",
      "without,hello,bag,world\n",
      "bag,hello,without,world\n"
     ]
    }
   ],
   "source": [
    "words = input(\"Enter a list of words separated only by commas\\n\")\n",
    "words = words.split(\",\")\n",
    "words = sorted(words)\n",
    "print(','.join(words))"
   ]
  },
  {
   "cell_type": "markdown",
   "id": "3d044aaf",
   "metadata": {},
   "source": [
    "#### Question 9\n",
    "#### Write a program that accepts sequence of lines as input and prints the lines after making all characters in the sentence capitalized. Suppose the following input is supplied to the program:\n",
    "#### Hello world\n",
    "#### Practice makes perfect\n",
    "#### Then, the output should be: HELLO WORLD\n",
    "#### PRACTICE MAKES PERFECT"
   ]
  },
  {
   "cell_type": "code",
   "execution_count": 132,
   "id": "929f4318",
   "metadata": {},
   "outputs": [
    {
     "name": "stdout",
     "output_type": "stream",
     "text": [
      "Input sentences you wish to be capitalized, leave blank when finished\n",
      "Hello world\n",
      "Practice makes perfect\n",
      "\n",
      "HELLO WORLD\n",
      "PRACTICE MAKES PERFECT\n"
     ]
    }
   ],
   "source": [
    "lines = []\n",
    "print(\"Input sentences you wish to be capitalized, leave blank when finished\")\n",
    "while True:\n",
    "    words = input()\n",
    "    if words:\n",
    "        lines.append(words.upper())\n",
    "    if words == \"\":\n",
    "        break;\n",
    "for line in lines:\n",
    "    print(line)"
   ]
  },
  {
   "cell_type": "markdown",
   "id": "df0902c3",
   "metadata": {},
   "source": [
    "#### Question 10\n",
    "#### Write a program that accepts a sequence of whitespace separated words as input and prints the words after removing all duplicate words and sorting them alphanumerically.\n",
    "#### Suppose the following input is supplied to the program:\n",
    "#### hello world and practice makes perfect and hello world again\n",
    "#### Then, the output should be:\n",
    "#### again and hello makes perfect practice world\n",
    "\n",
    "#### Hints: We use set container to remove duplicated data automatically and then use sorted() to sort the data."
   ]
  },
  {
   "cell_type": "code",
   "execution_count": 144,
   "id": "81119e96",
   "metadata": {
    "scrolled": true
   },
   "outputs": [
    {
     "name": "stdout",
     "output_type": "stream",
     "text": [
      "Enter a sentence you wish to be sorted and for duplicates to be removed\n",
      "hello world and practice makes perfect and hello world again\n",
      "again and hello makes perfect practice world\n"
     ]
    }
   ],
   "source": [
    "words = input(\"Enter a sentence you wish to be sorted and for duplicates to be removed\\n\")\n",
    "words = words.split(\" \")\n",
    "words = sorted(set(words))\n",
    "print(\" \".join(words))"
   ]
  },
  {
   "cell_type": "markdown",
   "id": "a7d2387b",
   "metadata": {},
   "source": [
    "#### Question 25\n",
    "#### Define a class, which have a class parameter and have a same instance parameter.\n",
    "\n",
    "#### Hints: Define a instance parameter, need add it in init method\n",
    "#### You can init a object with construct parameter or set the value later\n",
    "\n"
   ]
  },
  {
   "cell_type": "code",
   "execution_count": 297,
   "id": "3671a5ed",
   "metadata": {},
   "outputs": [
    {
     "name": "stdout",
     "output_type": "stream",
     "text": [
      "Fruit name is Watermelon\n"
     ]
    }
   ],
   "source": [
    "class Fruit():\n",
    "    name = \"Fruit\"\n",
    "    def __init__(self, name = None):\n",
    "        self.name = name\n",
    "\n",
    "watermelon = Fruit(\"Watermelon\")\n",
    "print(f\"{Fruit.name} name is {watermelon.name}\")"
   ]
  },
  {
   "cell_type": "markdown",
   "id": "c22457d6",
   "metadata": {},
   "source": [
    "#### Question 35\n",
    "#### Define a function which can generate a dictionary where the keys are numbers between 1 and 20 (both included) and the values are square of keys. The function should just print the values only.\n",
    "\n",
    "#### Hints: Use dict[key]=value pattern to put entry into a dictionary.\n",
    "#### Use ** operator to get power of a number.\n",
    "#### Use range() for loops.\n",
    "#### Use keys() to iterate keys in the dictionary. Also we can use item() to get key/value pairs."
   ]
  },
  {
   "cell_type": "code",
   "execution_count": 291,
   "id": "e3be0206",
   "metadata": {},
   "outputs": [
    {
     "data": {
      "text/plain": [
       "dict_values([1, 4, 9, 16, 25, 36, 49, 64, 81, 100, 121, 144, 169, 196, 225, 256, 289, 324, 361, 400])"
      ]
     },
     "execution_count": 291,
     "metadata": {},
     "output_type": "execute_result"
    }
   ],
   "source": [
    "def Dict(start,end):\n",
    "    squareDict = {}\n",
    "    for i in range(start,end):\n",
    "        squareDict[i] = i**2\n",
    "    return squareDict.values()\n",
    "\n",
    "Dict(1,21)"
   ]
  },
  {
   "cell_type": "markdown",
   "id": "795334bd",
   "metadata": {},
   "source": [
    "#### Question 36\n",
    "#### Define a function which can generate a dictionary where the keys are numbers between 1 and 20 (both included) and the values are square of keys. The function should just print the keys only.\n",
    "\n",
    "#### Hints: Use dict[key]=value pattern to put entry into a dictionary.\n",
    "#### Use ** operator to get power of a number.\n",
    "#### Use range() for loops.\n",
    "#### Use keys() to iterate keys in the dictionary. Also we can use item() to get key/value pairs.\n",
    "\n"
   ]
  },
  {
   "cell_type": "code",
   "execution_count": 288,
   "id": "248a312f",
   "metadata": {},
   "outputs": [
    {
     "data": {
      "text/plain": [
       "dict_keys([1, 2, 3, 4, 5, 6, 7, 8, 9, 10, 11, 12, 13, 14, 15, 16, 17, 18, 19, 20])"
      ]
     },
     "execution_count": 288,
     "metadata": {},
     "output_type": "execute_result"
    }
   ],
   "source": [
    "def Dict(start,end):\n",
    "    squareDict = {}\n",
    "    for i in range(start,end):\n",
    "        squareDict[i] = i**2\n",
    "    return squareDict.keys()\n",
    "\n",
    "Dict(1,21)"
   ]
  },
  {
   "cell_type": "markdown",
   "id": "66b801fd",
   "metadata": {},
   "source": [
    "#### Question 37\n",
    "#### Define a function which can generate and print a list where the values are square of numbers between 1 and 20 (both included).\n",
    "\n",
    "#### Hints: Use ** operator to get power of a number.\n",
    "#### Use range() for loops.\n",
    "#### Use list.append() to add values into a list.\n"
   ]
  },
  {
   "cell_type": "code",
   "execution_count": 255,
   "id": "94677c3e",
   "metadata": {},
   "outputs": [
    {
     "name": "stdout",
     "output_type": "stream",
     "text": [
      "[1, 4, 9, 16, 25, 36, 49, 64, 81, 100, 121, 144, 169, 196, 225, 256, 289, 324, 361, 400]\n"
     ]
    }
   ],
   "source": [
    "def squared(num_list):\n",
    "    squared_list = []\n",
    "    for i in num_list:\n",
    "        squared_list.append(i*i)\n",
    "    return squared_list\n",
    "\n",
    "num_list = [num for num in range(1,21)]\n",
    "print(squared(num_list))"
   ]
  },
  {
   "cell_type": "markdown",
   "id": "ac33c46d",
   "metadata": {},
   "source": [
    "#### Question 43\n",
    "#### Write a program to generate and print another tuple whose values are even numbers in the given tuple (1,2,3,4,5,6,7,8,9,10).\n",
    "\n",
    "Hints: Use \"for\" to iterate the tuple\n",
    "Use tuple() to generate a tuple from a list."
   ]
  },
  {
   "cell_type": "code",
   "execution_count": 256,
   "id": "c0a72e8a",
   "metadata": {},
   "outputs": [
    {
     "name": "stdout",
     "output_type": "stream",
     "text": [
      "(2, 4, 6, 8, 10)\n"
     ]
    }
   ],
   "source": [
    "def even_numbers(tup):\n",
    "    even = []\n",
    "    for i in tup:\n",
    "        if i % 2 == 0:\n",
    "            even.append(i)\n",
    "    return tuple(even)\n",
    "\n",
    "given_tuple = [num for num in range(1,11)]\n",
    "print(even_numbers(given_tuple))"
   ]
  },
  {
   "cell_type": "markdown",
   "id": "2996d504",
   "metadata": {},
   "source": [
    "#### Question 51\n",
    "#### Define a class named American and its subclass NewYorker.\n",
    "\n",
    "Hints: Use class Subclass(ParentClass) to define a subclass.\n",
    "\n"
   ]
  },
  {
   "cell_type": "code",
   "execution_count": 241,
   "id": "e43e5804",
   "metadata": {},
   "outputs": [
    {
     "name": "stdout",
     "output_type": "stream",
     "text": [
      "<__main__.American object at 0x000001E1892000D0>\n",
      "<__main__.NewYorker object at 0x000001E1892007F0>\n"
     ]
    }
   ],
   "source": [
    "class American(object):\n",
    "    pass\n",
    "class NewYorker(American):\n",
    "    pass\n",
    "\n",
    "print(American())\n",
    "print(NewYorker())"
   ]
  },
  {
   "cell_type": "markdown",
   "id": "0fc109a2",
   "metadata": {},
   "source": [
    "#### Question 53\n",
    "#### Define a class named Rectangle which can be constructed by a length and width. The Rectangle class has a method which can compute the area.\n",
    "\n",
    "Hints: Use def methodName(self) to define a method.\n",
    "\n"
   ]
  },
  {
   "cell_type": "code",
   "execution_count": 230,
   "id": "2ae805c9",
   "metadata": {},
   "outputs": [
    {
     "name": "stdout",
     "output_type": "stream",
     "text": [
      "15\n"
     ]
    }
   ],
   "source": [
    "class Rectangle(object):\n",
    "    def __init__(self, l, w):\n",
    "        self.length = l\n",
    "        self.width = w\n",
    "    def area(self):\n",
    "        return self.length*self.width\n",
    "rect = Rectangle(3,5)\n",
    "print(rect.area())"
   ]
  },
  {
   "cell_type": "markdown",
   "id": "cdcf6d3e",
   "metadata": {},
   "source": [
    "#### Question 54\n",
    "#### Define a class named Shape and its subclass Square. The Square class has an init function which takes a length as argument. Both classes have a area function which can print the area of the shape where Shape's area is 0 by default.\n",
    "\n",
    "Hints: To override a method in super class, we can define a method with the same name in the super class.\n",
    "\n"
   ]
  },
  {
   "cell_type": "code",
   "execution_count": 281,
   "id": "0501d1a7",
   "metadata": {},
   "outputs": [
    {
     "name": "stdout",
     "output_type": "stream",
     "text": [
      "25\n"
     ]
    }
   ],
   "source": [
    "class Shape(object):\n",
    "    def __init__(self):\n",
    "        pass\n",
    "    def area(self):\n",
    "        return 0\n",
    "\n",
    "class Square(Shape):\n",
    "    def __init__(self,length):\n",
    "        Shape.__init__(self)\n",
    "        self.len = length\n",
    "    def area(self):\n",
    "        return self.len**2\n",
    "\n",
    "print(Square(5).area())"
   ]
  },
  {
   "cell_type": "markdown",
   "id": "ca3e2211",
   "metadata": {},
   "source": [
    "#### Question 56\n",
    "#### Write a function to compute 5/0 and use try/except to catch the exceptions.\n",
    "\n",
    "Hints: Use try/except to catch exceptions.\n",
    "\n"
   ]
  },
  {
   "cell_type": "code",
   "execution_count": 245,
   "id": "74f19823",
   "metadata": {},
   "outputs": [
    {
     "name": "stdout",
     "output_type": "stream",
     "text": [
      "Division by zero\n"
     ]
    }
   ],
   "source": [
    "def dividebyZero(num):\n",
    "    return num\n",
    "\n",
    "try:\n",
    "    dividebyZero(5/0)\n",
    "except ZeroDivisionError:\n",
    "    print(\"Division by zero\")\n",
    "\n",
    "#from reference:\n",
    "#except Exception, err:\n",
    "#    print('Caught an exception')\n",
    "#finally:\n",
    "#    print('In finally block for cleanup')"
   ]
  },
  {
   "cell_type": "markdown",
   "id": "c5a8e495",
   "metadata": {},
   "source": [
    "#### Question 94\n",
    "#### With a given list [12, 24, 35, 24, 88, 120, 155, 88, 120, 155], write a program to print this list after removing all duplicate values with original order reserved.\n",
    "\n",
    "Hints: Use set() to store a number of values without duplicate.\n",
    "\n"
   ]
  },
  {
   "cell_type": "code",
   "execution_count": 277,
   "id": "9b30e610",
   "metadata": {},
   "outputs": [
    {
     "name": "stdout",
     "output_type": "stream",
     "text": [
      "[12, 24, 35, 88, 120, 155]\n"
     ]
    }
   ],
   "source": [
    "def checkDuplicate(given):\n",
    "    new = []\n",
    "    check = set()\n",
    "    for i in given:\n",
    "        if i not in check:\n",
    "            new.append(i)\n",
    "            check.add(i)\n",
    "    return new\n",
    "\n",
    "given = [12,24,35,24,88,120,155,88,120,155]\n",
    "print(checkDuplicate(given))"
   ]
  }
 ],
 "metadata": {
  "kernelspec": {
   "display_name": "Python 3 (ipykernel)",
   "language": "python",
   "name": "python3"
  },
  "language_info": {
   "codemirror_mode": {
    "name": "ipython",
    "version": 3
   },
   "file_extension": ".py",
   "mimetype": "text/x-python",
   "name": "python",
   "nbconvert_exporter": "python",
   "pygments_lexer": "ipython3",
   "version": "3.9.12"
  }
 },
 "nbformat": 4,
 "nbformat_minor": 5
}
